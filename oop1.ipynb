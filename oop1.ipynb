{
 "cells": [
  {
   "cell_type": "markdown",
   "id": "4558b824",
   "metadata": {},
   "source": [
    "# class attribute and method"
   ]
  },
  {
   "cell_type": "code",
   "execution_count": 3,
   "id": "b7bd85ce",
   "metadata": {},
   "outputs": [
    {
     "name": "stdout",
     "output_type": "stream",
     "text": [
      "Crown is driving\n",
      "lamborghini is driving\n",
      "all car has only1 sterring wheel\n"
     ]
    }
   ],
   "source": [
    "class Car:\n",
    "    #class attribute\n",
    "    sterringwheel=1\n",
    "    def __init__(self,name,wheels):\n",
    "        #instance attribute\n",
    "        self.name=name\n",
    "        self.wheels=wheels\n",
    "    \n",
    "    def drive(self):\n",
    "        print(f'{self.name} is driving')\n",
    "        \n",
    "    @classmethod\n",
    "    def common(cls):\n",
    "        print(f'all car has only{cls.sterringwheel} sterring wheel')\n",
    "    \n",
    "toyota=Car(\"Crown\",4)\n",
    "toyota.drive();\n",
    "\n",
    "racer=Car(\"lamborghini\",4)\n",
    "racer.drive();\n",
    "\n",
    "Car.common()"
   ]
  },
  {
   "cell_type": "markdown",
   "id": "723b62d4",
   "metadata": {},
   "source": [
    "# Inheritance"
   ]
  },
  {
   "cell_type": "code",
   "execution_count": 1,
   "id": "787ebb2b",
   "metadata": {},
   "outputs": [
    {
     "name": "stdout",
     "output_type": "stream",
     "text": [
      "Jacki says Woof!\n",
      "Shwe Wah says Meow!\n"
     ]
    }
   ],
   "source": [
    "# Parent class\n",
    "class Animal:\n",
    "    def __init__(self, name):\n",
    "        self.name = name\n",
    "    \n",
    "    def speak(self):\n",
    "        print(f\"{self.name} says something.\")\n",
    "\n",
    "# Child class inheriting from Animal\n",
    "class Dog(Animal):\n",
    "    def __init__(self, name):\n",
    "        super().__init__(name) \n",
    "        self.breed = \"Unknown\"\n",
    "    \n",
    "    def speak(self):\n",
    "        print(f\"{self.name} says Woof!\")\n",
    "\n",
    "# Child class inheriting from Animal\n",
    "class Cat(Animal):\n",
    "    def __init__(self, name):\n",
    "        super().__init__(name) \n",
    "        self.color = \"Unknown\"\n",
    "    \n",
    "    def speak(self):\n",
    "        print(f\"{self.name} says Meow!\")\n",
    "\n",
    "# Creating objects and using inheritance\n",
    "dog = Dog(\"Jacki\")\n",
    "dog.speak() \n",
    "\n",
    "cat = Cat(\"Shwe Wah\")\n",
    "cat.speak()  \n"
   ]
  },
  {
   "cell_type": "markdown",
   "id": "9e32dc44",
   "metadata": {},
   "source": [
    "# Polymorphism"
   ]
  },
  {
   "cell_type": "code",
   "execution_count": 2,
   "id": "636c6780",
   "metadata": {},
   "outputs": [
    {
     "name": "stdout",
     "output_type": "stream",
     "text": [
      "Jacki: Woof!\n",
      "Shwe Wah: Meow!\n",
      "Thar: Moo!\n"
     ]
    }
   ],
   "source": [
    "class Animal:\n",
    "    def __init__(self, name):\n",
    "        self.name = name\n",
    "    \n",
    "    def speak(self):\n",
    "        pass\n",
    "\n",
    "class Dog(Animal):\n",
    "    def speak(self):\n",
    "        return \"Woof!\"\n",
    "\n",
    "class Cat(Animal):\n",
    "    def speak(self):\n",
    "        return \"Meow!\"\n",
    "\n",
    "class Cow(Animal):\n",
    "    def speak(self):\n",
    "        return \"Moo!\"\n",
    "\n",
    "# Polymorphism in action\n",
    "animals = [Dog(\"Jacki\"), Cat(\"Shwe Wah\"), Cow(\"Thar\")]\n",
    "\n",
    "for animal in animals:\n",
    "    print(animal.name + \": \" + animal.speak())\n"
   ]
  },
  {
   "cell_type": "markdown",
   "id": "7897a2a8",
   "metadata": {},
   "source": [
    "# Encapsulation"
   ]
  },
  {
   "cell_type": "code",
   "execution_count": 5,
   "id": "9bf27cf9",
   "metadata": {},
   "outputs": [
    {
     "name": "stdout",
     "output_type": "stream",
     "text": [
      "Initial balance: 1000\n",
      "Balance after deposit: 1500\n",
      "Balance after withdrawal: 1300\n",
      "Insufficient balance!\n"
     ]
    }
   ],
   "source": [
    "class BankAccount:\n",
    "    def __init__(self, account_number, balance):\n",
    "        self._account_number = account_number\n",
    "        self._balance = balance\n",
    "\n",
    "    def deposit(self, amount):\n",
    "        self._balance += amount\n",
    "\n",
    "    def withdraw(self, amount):\n",
    "        if amount <= self._balance:\n",
    "            self._balance -= amount\n",
    "        else:\n",
    "            print(\"Insufficient balance!\")\n",
    "\n",
    "    def get_balance(self):\n",
    "        return self._balance\n",
    "\n",
    "# Encapsulation in action\n",
    "account = BankAccount(\"1234567890\", 1000)\n",
    "\n",
    "print(\"Initial balance:\", account.get_balance())\n",
    "\n",
    "account.deposit(500)\n",
    "print(\"Balance after deposit:\", account.get_balance())\n",
    "\n",
    "account.withdraw(200)\n",
    "print(\"Balance after withdrawal:\", account.get_balance())\n",
    "\n",
    "account.withdraw(1500)\n"
   ]
  },
  {
   "cell_type": "markdown",
   "id": "7595382c",
   "metadata": {},
   "source": [
    "# Properties"
   ]
  },
  {
   "cell_type": "code",
   "execution_count": 4,
   "id": "10dc59e7",
   "metadata": {},
   "outputs": [
    {
     "name": "stdout",
     "output_type": "stream",
     "text": [
      "6000\n"
     ]
    }
   ],
   "source": [
    "class developer:\n",
    "\n",
    "    def __init__(self):\n",
    "        self._salary = None\n",
    "    \n",
    "    @property\n",
    "    def salary(self):\n",
    "        return self._salary\n",
    "    \n",
    "    @salary.setter\n",
    "    def salary(self, value):\n",
    "        self._salary = value\n",
    "\n",
    "dev = developer()\n",
    "\n",
    "dev.salary = 6000\n",
    "print(dev.salary)"
   ]
  }
 ],
 "metadata": {
  "kernelspec": {
   "display_name": "Python 3 (ipykernel)",
   "language": "python",
   "name": "python3"
  },
  "language_info": {
   "codemirror_mode": {
    "name": "ipython",
    "version": 3
   },
   "file_extension": ".py",
   "mimetype": "text/x-python",
   "name": "python",
   "nbconvert_exporter": "python",
   "pygments_lexer": "ipython3",
   "version": "3.9.16"
  }
 },
 "nbformat": 4,
 "nbformat_minor": 5
}
