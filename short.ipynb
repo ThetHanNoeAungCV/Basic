{
 "cells": [
  {
   "cell_type": "markdown",
   "id": "9ae3439f",
   "metadata": {},
   "source": [
    "# comprehension"
   ]
  },
  {
   "cell_type": "code",
   "execution_count": null,
   "id": "119ddb48",
   "metadata": {},
   "outputs": [],
   "source": [
    "nums=[1,2,3,4,5,6,7,8,9,10]\n",
    "even_double_nums=[num*2 for num in nums if (num%2)==0]\n",
    "print(even_double_nums);"
   ]
  },
  {
   "cell_type": "markdown",
   "id": "fda07984",
   "metadata": {},
   "source": [
    "# map when override"
   ]
  },
  {
   "cell_type": "code",
   "execution_count": null,
   "id": "20be97e8",
   "metadata": {},
   "outputs": [],
   "source": [
    "nums=[1,2,3,4,5,6,7,8,9,10]\n",
    "\n",
    "def mapFunction(num):\n",
    "    return num*2\n",
    "nums=list(map(mapFunction,nums))\n",
    "print(nums)"
   ]
  },
  {
   "cell_type": "markdown",
   "id": "2cdf70ee",
   "metadata": {},
   "source": [
    "# filter  "
   ]
  },
  {
   "cell_type": "code",
   "execution_count": null,
   "id": "4305e679",
   "metadata": {},
   "outputs": [],
   "source": [
    "nums=[1,2,3,4,5,6,7,8,9,10]\n",
    "\n",
    "def even(num):\n",
    "    return (num%2)==0\n",
    "evenNums=list(filter(even,nums))\n",
    "print(evenNums)"
   ]
  },
  {
   "cell_type": "markdown",
   "id": "9ace7a3e",
   "metadata": {},
   "source": [
    "# lambda"
   ]
  },
  {
   "cell_type": "code",
   "execution_count": null,
   "id": "a23214e2",
   "metadata": {},
   "outputs": [],
   "source": [
    "add=lambda num1,num2:num1+num2\n",
    "print(add(4,5))\n"
   ]
  },
  {
   "cell_type": "markdown",
   "id": "4f361452",
   "metadata": {},
   "source": [
    "# decorator"
   ]
  },
  {
   "cell_type": "code",
   "execution_count": null,
   "id": "ffbbfe0a",
   "metadata": {},
   "outputs": [],
   "source": [
    "def decorator(func):\n",
    "    def wrapper(text):\n",
    "        result = func(text)\n",
    "        return result.upper()\n",
    "    return wrapper\n",
    "\n",
    "@decorator\n",
    "def greet(name):\n",
    "    return f\"Hello, {name}!\"\n",
    "\n",
    "# Using the decorator\n",
    "print(greet(\"Ko\"))\n",
    "print(greet(\"Kyan\"))"
   ]
  },
  {
   "cell_type": "markdown",
   "id": "586c9ff7",
   "metadata": {},
   "source": [
    "# generator"
   ]
  },
  {
   "cell_type": "code",
   "execution_count": null,
   "id": "7492fc69",
   "metadata": {},
   "outputs": [],
   "source": [
    "def count_up_to(n):\n",
    "    i = 1\n",
    "    while i <= n:\n",
    "        yield i\n",
    "        i += 1\n",
    "\n",
    "# Using the generator\n",
    "numbers = count_up_to(5)\n",
    "\n",
    "for num in numbers:\n",
    "    print(num)\n"
   ]
  }
 ],
 "metadata": {
  "kernelspec": {
   "display_name": "Python 3 (ipykernel)",
   "language": "python",
   "name": "python3"
  },
  "language_info": {
   "codemirror_mode": {
    "name": "ipython",
    "version": 3
   },
   "file_extension": ".py",
   "mimetype": "text/x-python",
   "name": "python",
   "nbconvert_exporter": "python",
   "pygments_lexer": "ipython3",
   "version": "3.9.16"
  }
 },
 "nbformat": 4,
 "nbformat_minor": 5
}
