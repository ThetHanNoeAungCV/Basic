{
 "cells": [
  {
   "cell_type": "markdown",
   "id": "6be2ef45",
   "metadata": {},
   "source": [
    "#ifelse"
   ]
  },
  {
   "cell_type": "code",
   "execution_count": null,
   "id": "2cff528f",
   "metadata": {},
   "outputs": [],
   "source": [
    "age = int(input('age:'))\n",
    "if age < 18:\n",
    "    print(\"you are young\")\n",
    "elif age < 18 and age < 30:\n",
    "    print(\"you are normal age\")\n",
    "else: \n",
    "    print(\"you are old\")"
   ]
  },
  {
   "cell_type": "markdown",
   "id": "19828e60",
   "metadata": {},
   "source": [
    "#loop"
   ]
  },
  {
   "cell_type": "code",
   "execution_count": null,
   "id": "8717c314",
   "metadata": {},
   "outputs": [],
   "source": [
    "names=['koko','mgmg','susu','mimi'];\n",
    "for name in names:\n",
    "    if name == 'susu':\n",
    "        print(f'{name} is teacher')\n",
    "        break\n",
    "    else:\n",
    "        print(f'{name} is student')"
   ]
  },
  {
   "cell_type": "markdown",
   "id": "ac19a515",
   "metadata": {},
   "source": [
    "#whileloop"
   ]
  },
  {
   "cell_type": "code",
   "execution_count": null,
   "id": "b2a13943",
   "metadata": {},
   "outputs": [],
   "source": [
    "num=0;\n",
    "while num < 10:\n",
    "    if num > 5:\n",
    "        break\n",
    "    if num % 2 == 0:\n",
    "        print(f'{num} hi')\n",
    "    num+=1;"
   ]
  },
  {
   "cell_type": "markdown",
   "id": "74dddca8",
   "metadata": {},
   "source": [
    "#variable scope"
   ]
  },
  {
   "cell_type": "code",
   "execution_count": null,
   "id": "49c08170",
   "metadata": {},
   "outputs": [],
   "source": [
    "#global\n",
    "name=\"koko\";\n",
    "def myname():\n",
    "    #local\n",
    "    name=\"mgmg\";\n",
    "    print(name);\n",
    "myname();\n",
    "print(name);   "
   ]
  }
 ],
 "metadata": {
  "kernelspec": {
   "display_name": "Python 3 (ipykernel)",
   "language": "python",
   "name": "python3"
  },
  "language_info": {
   "codemirror_mode": {
    "name": "ipython",
    "version": 3
   },
   "file_extension": ".py",
   "mimetype": "text/x-python",
   "name": "python",
   "nbconvert_exporter": "python",
   "pygments_lexer": "ipython3",
   "version": "3.9.16"
  }
 },
 "nbformat": 4,
 "nbformat_minor": 5
}
